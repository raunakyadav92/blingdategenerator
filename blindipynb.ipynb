{
  "nbformat": 4,
  "nbformat_minor": 0,
  "metadata": {
    "colab": {
      "provenance": [],
      "authorship_tag": "ABX9TyNmHAJ2T3gYUV8GqaXe6k4M",
      "include_colab_link": true
    },
    "kernelspec": {
      "name": "python3",
      "display_name": "Python 3"
    },
    "language_info": {
      "name": "python"
    }
  },
  "cells": [
    {
      "cell_type": "markdown",
      "metadata": {
        "id": "view-in-github",
        "colab_type": "text"
      },
      "source": [
        "<a href=\"https://colab.research.google.com/github/raunakyadav92/blingdategenerator/blob/main/blindipynb.ipynb\" target=\"_parent\"><img src=\"https://colab.research.google.com/assets/colab-badge.svg\" alt=\"Open In Colab\"/></a>"
      ]
    },
    {
      "cell_type": "code",
      "execution_count": null,
      "metadata": {
        "id": "FqiKiq-idyeA"
      },
      "outputs": [],
      "source": [
        "import random\n",
        "\n",
        "users = [\n",
        "    {\"name\": \"Aman\", \"age\": 23, \"city\": \"Delhi\"},\n",
        "    {\"name\": \"Sara\", \"age\": 24, \"city\": \"Mumbai\"},\n",
        "    {\"name\": \"Riya\", \"age\": 23, \"city\": \"Delhi\"},\n",
        "    {\"name\": \"Vishal\", \"age\": 25, \"city\": \"Delhi\"}\n",
        "]\n",
        "\n",
        "def blind_date_match(current_user):\n",
        "    potential_matches = [u for u in users if u['name'] != current_user]\n",
        "    if potential_matches:\n",
        "        match = random.choice(potential_matches)\n",
        "        print(f\"❤️ Blind Date Match Found! Name: ???, City: ???, Age: ???\")\n",
        "        confirm = input(\"Do you want to reveal the match? (yes/no): \").lower()\n",
        "        if confirm == 'yes':\n",
        "            print(f\"🎯 It’s {match['name']} from {match['city']}, Age {match['age']}\")\n",
        "        else:\n",
        "            print(\"❌ Match skipped.\")\n",
        "    else:\n",
        "        print(\"❌ No other users found.\")\n",
        "\n",
        "blind_date_match(\"Aman\")\n"
      ]
    }
  ]
}